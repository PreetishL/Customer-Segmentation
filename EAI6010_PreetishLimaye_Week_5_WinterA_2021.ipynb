{
  "nbformat": 4,
  "nbformat_minor": 0,
  "metadata": {
    "colab": {
      "name": "Copy of EAI6010_PreetishLimaye_Week_5_WinterA_2021.ipynb",
      "provenance": [],
      "collapsed_sections": []
    },
    "kernelspec": {
      "name": "python3",
      "display_name": "Python 3",
      "language": "python"
    }
  },
  "cells": [
    {
      "cell_type": "markdown",
      "metadata": {
        "id": "xnFxpzqej7Rs"
      },
      "source": [
        "**Loading Required Dependencies**"
      ]
    },
    {
      "cell_type": "code",
      "metadata": {
        "id": "30VLNXwTqS40",
        "colab": {
          "base_uri": "https://localhost:8080/",
          "height": 37
        },
        "outputId": "edbc58a6-4a4b-4b8f-dccd-65f8b7fbff04"
      },
      "source": [
        "import numpy as np \n",
        "import time\n",
        "import os\n",
        "import random as rd\n",
        "\n",
        "from IPython.core.interactiveshell import InteractiveShell\n",
        "InteractiveShell.ast_node_interactivity = \"all\"\n",
        "\n",
        "\"\"\"\n",
        "start at 0 x 0 goal at n-1 x n-1 assuming a square grid\n",
        "1 = obstacles\n",
        "0 = possible path\n",
        "\"\"\"\n"
      ],
      "execution_count": 12,
      "outputs": [
        {
          "output_type": "execute_result",
          "data": {
            "application/vnd.google.colaboratory.intrinsic+json": {
              "type": "string"
            },
            "text/plain": [
              "'\\nstart at 0 x 0 goal at n-1 x n-1 assuming a square grid\\n1 = obstacles\\n0 = possible path\\n'"
            ]
          },
          "metadata": {
            "tags": []
          },
          "execution_count": 12
        }
      ]
    },
    {
      "cell_type": "markdown",
      "metadata": {
        "id": "es5nX_-xkd5B"
      },
      "source": [
        "Creating Map of the World for the robot\n",
        "\n",
        "---\n",
        "\n",
        "\n",
        "\n",
        "---\n",
        "\n"
      ]
    },
    {
      "cell_type": "code",
      "metadata": {
        "id": "Kr2XgSvGriaO"
      },
      "source": [
        "def get_map():\n",
        "    \"\"\"\n",
        "    setting obstacles \n",
        "    fucntion to return the map array\n",
        "    \"\"\"\n",
        "    map = np.zeros((8,8), dtype=str)\n",
        "    # for i in range(6):\n",
        "    #   for j in range(6):\n",
        "    #     map[i][j] = rd.randint(0,1)\n",
        "    map[3][4] = 1\n",
        "    map[1][2] = 1\n",
        "    map[2][1] = 1\n",
        "    map[3][3] = 1\n",
        "    map[6][2] = 1\n",
        "    map[6][6] = 1\n",
        "\n",
        "    return map"
      ],
      "execution_count": 13,
      "outputs": []
    },
    {
      "cell_type": "code",
      "metadata": {
        "id": "4TAQy0QVrBrx"
      },
      "source": [
        "map = get_map()"
      ],
      "execution_count": 14,
      "outputs": []
    },
    {
      "cell_type": "code",
      "metadata": {
        "colab": {
          "base_uri": "https://localhost:8080/"
        },
        "id": "U9wSnwFchhFC",
        "outputId": "f39c9a2f-efa4-47f4-f0e2-5dfe0854e63d"
      },
      "source": [
        "print (map)"
      ],
      "execution_count": 15,
      "outputs": [
        {
          "output_type": "stream",
          "text": [
            "[['' '' '' '' '' '' '' '']\n",
            " ['' '' '1' '' '' '' '' '']\n",
            " ['' '1' '' '' '' '' '' '']\n",
            " ['' '' '' '1' '1' '' '' '']\n",
            " ['' '' '' '' '' '' '' '']\n",
            " ['' '' '' '' '' '' '' '']\n",
            " ['' '' '1' '' '' '' '1' '']\n",
            " ['' '' '' '' '' '' '' '']]\n"
          ],
          "name": "stdout"
        }
      ]
    },
    {
      "cell_type": "markdown",
      "metadata": {
        "id": "R-CbsQ5WpS3i"
      },
      "source": [
        "Generating Adjacency Matrix\n",
        "\n",
        "---\n",
        "\n",
        "\n",
        "\n",
        "---\n",
        "\n",
        "\n",
        "*useful to represent which vertices (or nodes) of a graph are adjacent to \n",
        "which other vertices.*"
      ]
    },
    {
      "cell_type": "code",
      "metadata": {
        "id": "TfjW9sHVsxbF",
        "colab": {
          "base_uri": "https://localhost:8080/"
        },
        "outputId": "5aa8f159-b248-4b38-aff4-a2b85e6776bc"
      },
      "source": [
        "# generate adj matrix\n",
        "new_adj = [[] for i in range(64)];\n",
        "z = len(map) * len(map)\n",
        "n = len(map)\n",
        "print(n)        #making sure the value of n\n",
        "adj = np.zeros((z,z), dtype=int)\n",
        "def generate_adj(grid):\n",
        "  for i in range(n):\n",
        "    for j in range(n):\n",
        "      for x, y in ((i-1,j),(i,j-1),(i,j+1),(i+1,j),(i-1,j-1),(i+1,j-1),(i-1,j+1),(i+1,j+1)): #(i-1,j),(i,j-1),(i,j+1),(i+1,j) keep this for 4-connectivity\n",
        "        if 0 <= x < n and 0 <= y < n and map[x][y] == '':\n",
        "          adj[i*n+j][x*n+y] = 1 # converted 1-D index to 2D index\n",
        "          add_edge(new_adj, i*n+j, x*n+y)\n",
        "  # print(adj)\n",
        "\n",
        "def add_edge(adj, src, dest):\n",
        "    adj[src].append(dest);\n",
        "    adj[dest].append(src);"
      ],
      "execution_count": 16,
      "outputs": [
        {
          "output_type": "stream",
          "text": [
            "8\n"
          ],
          "name": "stdout"
        }
      ]
    },
    {
      "cell_type": "code",
      "metadata": {
        "id": "V1Fx98i8zsiz"
      },
      "source": [
        "generate_adj(map)"
      ],
      "execution_count": 17,
      "outputs": []
    },
    {
      "cell_type": "code",
      "metadata": {
        "id": "GlOc4lZezvhc",
        "colab": {
          "base_uri": "https://localhost:8080/"
        },
        "outputId": "0704f3be-56b0-4af0-894b-c932c7b5fc9b"
      },
      "source": [
        "print(adj)\n",
        "print(new_adj)"
      ],
      "execution_count": 18,
      "outputs": [
        {
          "output_type": "stream",
          "text": [
            "[[0 1 0 ... 0 0 0]\n",
            " [1 0 1 ... 0 0 0]\n",
            " [0 1 0 ... 0 0 0]\n",
            " ...\n",
            " [0 0 0 ... 0 1 0]\n",
            " [0 0 0 ... 1 0 1]\n",
            " [0 0 0 ... 0 1 0]]\n",
            "[[1, 8, 9, 1, 8, 9], [0, 0, 2, 9, 8, 2, 8, 9, 10], [1, 1, 3, 9, 11, 3, 9, 10, 11], [2, 2, 4, 11, 12, 4, 10, 11, 12], [3, 3, 5, 12, 11, 13, 5, 11, 12, 13], [4, 4, 6, 13, 12, 14, 6, 12, 13, 14], [5, 5, 7, 14, 13, 15, 7, 13, 14, 15], [6, 6, 15, 14, 14, 15], [0, 1, 0, 9, 16, 1, 9, 16, 17], [0, 1, 2, 8, 1, 8, 0, 16, 2, 18, 10, 16, 17, 18], [2, 9, 11, 18, 1, 3, 19], [2, 3, 4, 10, 3, 12, 19, 2, 18, 4, 20, 12, 18, 19, 20], [3, 4, 5, 11, 4, 11, 13, 20, 3, 19, 5, 21, 13, 19, 20, 21], [4, 5, 6, 12, 5, 12, 14, 21, 4, 20, 6, 22, 14, 20, 21, 22], [5, 6, 7, 13, 6, 13, 15, 22, 5, 21, 7, 23, 15, 21, 22, 23], [6, 7, 14, 7, 14, 23, 6, 22, 22, 23], [8, 9, 8, 24, 9, 25, 17, 24, 25], [9, 16, 18, 25, 8, 24, 26], [9, 10, 11, 17, 19, 26, 9, 25, 11, 19, 25, 26, 27], [10, 11, 12, 18, 11, 18, 20, 26, 12, 20, 26, 27, 28], [11, 12, 13, 19, 12, 19, 21, 11, 13, 29, 21, 27, 28, 29], [12, 13, 14, 20, 13, 20, 22, 29, 12, 14, 30, 22, 28, 29, 30], [13, 14, 15, 21, 14, 21, 23, 30, 13, 29, 15, 31, 23, 29, 30, 31], [14, 15, 22, 15, 22, 31, 14, 30, 30, 31], [16, 17, 16, 25, 32, 33, 25, 32, 33], [16, 17, 18, 24, 24, 26, 33, 16, 32, 18, 34, 26, 32, 33, 34], [17, 18, 19, 25, 18, 25, 34, 33, 19, 35, 27, 33, 34, 35], [19, 26, 35, 18, 34, 20, 36], [20, 29, 36, 19, 35, 21, 37], [20, 21, 22, 28, 21, 30, 37, 20, 36, 22, 38, 30, 36, 37, 38], [21, 22, 23, 29, 22, 29, 31, 38, 21, 37, 23, 39, 31, 37, 38, 39], [22, 23, 30, 23, 30, 39, 22, 38, 38, 39], [24, 25, 24, 33, 40, 25, 41, 33, 40, 41], [24, 25, 26, 32, 25, 32, 34, 41, 24, 40, 26, 42, 34, 40, 41, 42], [25, 26, 27, 33, 26, 33, 35, 42, 25, 41, 43, 35, 41, 42, 43], [26, 27, 28, 34, 34, 36, 43, 26, 42, 44, 36, 42, 43, 44], [27, 28, 29, 35, 35, 37, 44, 43, 29, 45, 37, 43, 44, 45], [28, 29, 30, 36, 29, 36, 38, 45, 44, 30, 46, 38, 44, 45, 46], [29, 30, 31, 37, 30, 37, 39, 46, 29, 45, 31, 47, 39, 45, 46, 47], [30, 31, 38, 31, 38, 47, 30, 46, 46, 47], [32, 33, 32, 41, 48, 33, 49, 41, 48, 49], [32, 33, 34, 40, 33, 40, 42, 49, 32, 48, 34, 42, 48, 49, 50], [33, 34, 35, 41, 34, 41, 43, 33, 49, 35, 51, 43, 49, 50, 51], [34, 35, 36, 42, 35, 42, 44, 51, 34, 36, 52, 44, 50, 51, 52], [35, 36, 37, 43, 36, 43, 45, 52, 35, 51, 37, 53, 45, 51, 52, 53], [36, 37, 38, 44, 37, 44, 46, 53, 36, 52, 38, 46, 52, 53, 54], [37, 38, 39, 45, 38, 45, 47, 37, 53, 39, 55, 47, 53, 54, 55], [38, 39, 46, 39, 46, 55, 38, 54, 55], [40, 41, 40, 49, 56, 41, 57, 49, 56, 57], [40, 41, 42, 48, 41, 48, 57, 40, 56, 42, 58, 50, 56, 57, 58], [42, 49, 51, 58, 41, 57, 43, 59], [42, 43, 44, 50, 43, 52, 59, 42, 58, 44, 60, 52, 58, 59, 60], [43, 44, 45, 51, 44, 51, 53, 60, 43, 59, 45, 61, 53, 59, 60, 61], [44, 45, 46, 52, 45, 52, 61, 44, 60, 46, 62, 54, 60, 61, 62], [46, 53, 55, 62, 45, 61, 47, 63], [46, 47, 54, 47, 63, 46, 62, 62, 63], [48, 49, 48, 57, 49, 57], [48, 49, 50, 56, 49, 56, 58, 48, 58], [49, 50, 51, 57, 57, 59, 49, 51, 59], [50, 51, 52, 58, 51, 58, 60, 52, 60], [51, 52, 53, 59, 52, 59, 61, 51, 53, 61], [52, 53, 54, 60, 53, 60, 62, 52, 62], [53, 54, 55, 61, 61, 63, 53, 55, 63], [54, 55, 62, 55, 62]]\n"
          ],
          "name": "stdout"
        }
      ]
    },
    {
      "cell_type": "markdown",
      "metadata": {
        "id": "vrl9IqMNqHV_"
      },
      "source": [
        "**To find the shortest path i used Simple Breath First Search Algorithm (BFS)**\n",
        "\n",
        "---\n",
        "*here I used R to show the movement of the robot*"
      ]
    },
    {
      "cell_type": "code",
      "metadata": {
        "id": "L8CK6w5sAhvt"
      },
      "source": [
        "def BFS(adj, src, dest, v, pred, dist):\n",
        " \n",
        "    # a queue to maintain queue of vertices whose\n",
        "    # adjacency list is to be scanned as per normal\n",
        "    queue = []\n",
        "  \n",
        "    # boolean array visited[] which stores the\n",
        "    # information whether ith vertex is reached\n",
        "    # at least once in the Breadth first search\n",
        "    visited = [False for i in range(v)];\n",
        "  \n",
        "    # initially all vertices are unvisited\n",
        "    # so v[i] for all i is false\n",
        "    # and as no path is yet constructed\n",
        "    # dist[i] for all i set to infinity\n",
        "    for i in range(v):\n",
        " \n",
        "        dist[i] = 1000000\n",
        "        pred[i] = -1;\n",
        "     \n",
        "    # now source is first to be visited and\n",
        "    # distance from source to itself should be 0\n",
        "    visited[src] = True;\n",
        "    dist[src] = 0;\n",
        "    queue.append(src);\n",
        "  \n",
        "    # standard BFS algorithm\n",
        "    while (len(queue) != 0):\n",
        "        u = queue[0];\n",
        "        queue.pop(0);\n",
        "        # a = queue.pop(0);\n",
        "        for i in range(len(adj[u])):\n",
        "         \n",
        "            if (visited[adj[u][i]] == False):\n",
        "                visited[adj[u][i]] = True;\n",
        "                print(adj[u][i])\n",
        "                dist[adj[u][i]] = dist[u] + 1;\n",
        "                pred[adj[u][i]] = u;\n",
        "                queue.append(adj[u][i]);\n",
        "                # print(a, end =\"\")\n",
        "  \n",
        "                # We stop BFS when we find\n",
        "                # destination.\n",
        "                if (adj[u][i] == dest):\n",
        "                    return True;\n",
        "  \n",
        "    return False;\n",
        "  \n",
        "# utility function to print the shortest distance\n",
        "# between source vertex and destination vertex\n",
        "def printShortestDistance(adj, s, dest, v):\n",
        "     \n",
        "    # predecessor[i] array stores predecessor of\n",
        "    # i and distance array stores distance of i\n",
        "    # from s\n",
        "    \n",
        "    pred=[0 for i in range(v)]\n",
        "    dist=[0 for i in range(v)];\n",
        "\n",
        "  \n",
        "    if (map[0][0] == 1 or BFS(adj, s, dest, v, pred, dist) == False):\n",
        "        print(\"Given source and destination are not connected\")\n",
        "        return\n",
        "  \n",
        "    # vector path stores the shortest path\n",
        "    path = []\n",
        "    crawl = dest;\n",
        "    crawl = dest;\n",
        "    path.append(crawl);\n",
        "     \n",
        "    while (pred[crawl] != -1):\n",
        "        path.append(pred[crawl]);\n",
        "        crawl = pred[crawl]; \n",
        "  \n",
        "    # distance from source is in distance array\n",
        "    print(\"Shortest path length is : \" + str(dist[dest]), end = '')\n",
        "  \n",
        "    # printing path from source to destination\n",
        "    print(\"\\nPath is : : \")\n",
        "     \n",
        "    for i in range(len(path)-1, -1, -1):\n",
        "        print(path[i], end=' ')\n",
        "\n",
        "    #visualized path in map variable\n",
        "    for p in path:\n",
        "      x = p//8\n",
        "      y = p%8\n",
        "      map[x][y] = 'R'\n",
        "    \n",
        "    # map[6][6] = 'G'\n",
        "    # map[0][0] = 'S'\n",
        "      "
      ],
      "execution_count": 19,
      "outputs": []
    },
    {
      "cell_type": "code",
      "metadata": {
        "id": "w-A9HNNIEQEv"
      },
      "source": [
        "# # this creates new adj\r\n",
        "# new_adj = [[] for i in range(36)];\r\n",
        "# for i in range(36):\r\n",
        "#   for j in range(36):\r\n",
        "#     if adj[i][j] == 1:\r\n",
        "#       add_edge(new_adj, i, j)"
      ],
      "execution_count": 20,
      "outputs": []
    },
    {
      "cell_type": "markdown",
      "metadata": {
        "id": "SWlhwrfntsF-"
      },
      "source": [
        "Marking / Setting the Start (S) and Goal (G) points. "
      ]
    },
    {
      "cell_type": "code",
      "metadata": {
        "id": "hn5-45sRhhFD"
      },
      "source": [
        "def get_shortest_path(start, end, map):\n",
        "    \"function to get the map and visualize the shortest path\"\n",
        "    printShortestDistance(new_adj, start, end, 64)\n",
        "    print(\"\\n\\n\",start, end)\n",
        "    map[start//8][start%8] = 'S'\n",
        "    map[end//8][end%8] = 'G'\n",
        "    print(map)"
      ],
      "execution_count": 21,
      "outputs": []
    },
    {
      "cell_type": "code",
      "metadata": {
        "id": "8IOsk_HY_Qqe"
      },
      "source": [
        ""
      ],
      "execution_count": 21,
      "outputs": []
    },
    {
      "cell_type": "markdown",
      "metadata": {
        "id": "dQ9-1b47uJH_"
      },
      "source": [
        "Final Output\n",
        "\n",
        "---\n",
        "*printing the output*\n"
      ]
    },
    {
      "cell_type": "code",
      "metadata": {
        "colab": {
          "base_uri": "https://localhost:8080/"
        },
        "id": "jYc95K-VhhFD",
        "outputId": "997c8f80-bf19-4d03-a014-64aa81d05b91"
      },
      "source": [
        "#get the final outputs\n",
        "for i in range(0,3):        #change for how many times you need the output to be generated\n",
        "    start = rd.randint(0,63)\n",
        "    end = rd.randint(0,63)\n",
        "    map = get_map()\n",
        "    print(\"\\n------Shortest path for matrix {}-------\".format(i))\n",
        "    get_shortest_path(start, end, map)"
      ],
      "execution_count": 22,
      "outputs": [
        {
          "output_type": "stream",
          "text": [
            "\n",
            "------Shortest path for matrix 0-------\n",
            "5\n",
            "6\n",
            "7\n",
            "13\n",
            "15\n",
            "22\n",
            "21\n",
            "23\n",
            "4\n",
            "12\n",
            "20\n",
            "30\n",
            "29\n",
            "31\n",
            "28\n",
            "3\n",
            "11\n",
            "19\n",
            "27\n",
            "38\n",
            "Shortest path length is : 3\n",
            "Path is : : \n",
            "14 22 30 38 \n",
            "\n",
            " 14 38\n",
            "[['' '' '' '' '' '' '' '']\n",
            " ['' '' '1' '' '' '' 'S' '']\n",
            " ['' '1' '' '' '' '' 'R' '']\n",
            " ['' '' '' '1' '1' '' 'R' '']\n",
            " ['' '' '' '' '' '' 'G' '']\n",
            " ['' '' '' '' '' '' '' '']\n",
            " ['' '' '1' '' '' '' '1' '']\n",
            " ['' '' '' '' '' '' '' '']]\n",
            "\n",
            "------Shortest path for matrix 1-------\n",
            "44\n",
            "45\n",
            "46\n",
            "52\n",
            "61\n",
            "60\n",
            "62\n",
            "54\n",
            "35\n",
            "36\n",
            "37\n",
            "43\n",
            "51\n",
            "38\n",
            "39\n",
            "47\n",
            "55\n",
            "59\n",
            "63\n",
            "26\n",
            "27\n",
            "28\n",
            "34\n",
            "42\n",
            "29\n",
            "30\n",
            "50\n",
            "58\n",
            "31\n",
            "17\n",
            "18\n",
            "19\n",
            "25\n",
            "33\n",
            "20\n",
            "21\n",
            "41\n",
            "49\n",
            "22\n",
            "23\n",
            "57\n",
            "9\n",
            "16\n",
            "8\n",
            "24\n",
            "10\n",
            "11\n",
            "12\n",
            "32\n",
            "40\n",
            "13\n",
            "14\n",
            "48\n",
            "56\n",
            "15\n",
            "Shortest path length is : 5\n",
            "Path is : : \n",
            "53 44 36 29 22 15 \n",
            "\n",
            " 53 15\n",
            "[['' '' '' '' '' '' '' '']\n",
            " ['' '' '1' '' '' '' '' 'G']\n",
            " ['' '1' '' '' '' '' 'R' '']\n",
            " ['' '' '' '1' '1' 'R' '' '']\n",
            " ['' '' '' '' 'R' '' '' '']\n",
            " ['' '' '' '' 'R' '' '' '']\n",
            " ['' '' '1' '' '' 'S' '1' '']\n",
            " ['' '' '' '' '' '' '' '']]\n",
            "\n",
            "------Shortest path for matrix 2-------\n",
            "46\n",
            "47\n",
            "54\n",
            "63\n",
            "62\n",
            "37\n",
            "38\n",
            "39\n",
            "45\n",
            "53\n",
            "61\n",
            "28\n",
            "29\n",
            "30\n",
            "36\n",
            "44\n",
            "31\n",
            "52\n",
            "60\n",
            "20\n",
            "19\n",
            "35\n",
            "21\n",
            "22\n",
            "23\n",
            "27\n",
            "43\n",
            "51\n",
            "59\n",
            "11\n",
            "12\n",
            "13\n",
            "10\n",
            "18\n",
            "26\n",
            "34\n",
            "Shortest path length is : 5\n",
            "Path is : : \n",
            "55 46 37 28 35 34 \n",
            "\n",
            " 55 34\n",
            "[['' '' '' '' '' '' '' '']\n",
            " ['' '' '1' '' '' '' '' '']\n",
            " ['' '1' '' '' '' '' '' '']\n",
            " ['' '' '' '1' 'R' '' '' '']\n",
            " ['' '' 'G' 'R' '' 'R' '' '']\n",
            " ['' '' '' '' '' '' 'R' '']\n",
            " ['' '' '1' '' '' '' '1' 'S']\n",
            " ['' '' '' '' '' '' '' '']]\n"
          ],
          "name": "stdout"
        }
      ]
    },
    {
      "cell_type": "code",
      "metadata": {
        "id": "MDq4hgao8e7m"
      },
      "source": [
        ""
      ],
      "execution_count": 22,
      "outputs": []
    }
  ]
}